{
 "cells": [
  {
   "cell_type": "code",
   "execution_count": null,
   "id": "cbeb2442",
   "metadata": {},
   "outputs": [],
   "source": [
    "import random\n",
    "lista = [\"pedra\", \"papel\", \"tesoura\"]\n",
    "\n",
    "def start_game():\n",
    "    print(\"Pedra, papel ou tesoura?\")\n",
    "    \n",
    "def roll_dice():\n",
    "    return (random.choice(lista))\n",
    "    \n",
    "def resposta(x):\n",
    "    if x in lista:\n",
    "        print(x)\n",
    "        return roll_dice()\n",
    "    \n",
    "    else:\n",
    "        print(\"Insira uma escolha válida\")\n",
    "        \n",
    "\n",
    "start_game()\n",
    "\n",
    "resposta(input())\n"
   ]
  },
  {
   "cell_type": "code",
   "execution_count": null,
   "id": "930c4049",
   "metadata": {},
   "outputs": [],
   "source": []
  },
  {
   "cell_type": "code",
   "execution_count": null,
   "id": "93d61717",
   "metadata": {},
   "outputs": [],
   "source": []
  },
  {
   "cell_type": "code",
   "execution_count": null,
   "id": "0f68c232",
   "metadata": {},
   "outputs": [],
   "source": []
  }
 ],
 "metadata": {
  "kernelspec": {
   "display_name": "Python 3",
   "language": "python",
   "name": "python3"
  },
  "language_info": {
   "codemirror_mode": {
    "name": "ipython",
    "version": 3
   },
   "file_extension": ".py",
   "mimetype": "text/x-python",
   "name": "python",
   "nbconvert_exporter": "python",
   "pygments_lexer": "ipython3",
   "version": "3.8.9"
  }
 },
 "nbformat": 4,
 "nbformat_minor": 5
}
